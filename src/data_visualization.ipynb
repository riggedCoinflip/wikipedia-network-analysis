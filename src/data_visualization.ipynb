{
 "cells": [
  {
   "cell_type": "code",
   "execution_count": 5,
   "metadata": {
    "collapsed": true,
    "pycharm": {
     "name": "#%%\n"
    }
   },
   "outputs": [],
   "source": [
    "import os\n",
    "from functools import reduce\n",
    "from dotenv import load_dotenv\n",
    "import numpy as np\n",
    "import pandas as pd\n",
    "import seaborn as sns\n",
    "\n",
    "load_dotenv()\n",
    "\n",
    "dijkstra_natural_file = rf\"{os.getenv('PROJECT_PATH')}\\results\\dijkstra_natural.csv\"\n",
    "dijkstra_reverse_file = rf\"{os.getenv('PROJECT_PATH')}\\results\\dijkstra_reverse.csv\"\n",
    "dijkstra_undirected_file = rf\"{os.getenv('PROJECT_PATH')}\\results\\dijkstra_undirected.csv\"\n",
    "\n",
    "\n",
    "centrality_betweenness_natural_file = rf\"{os.getenv('PROJECT_PATH')}\\results\\centrality_betweenness_natural.csv\"\n",
    "centrality_degree_natural_file = rf\"{os.getenv('PROJECT_PATH')}\\results\\centrality_degree_natural.csv\"\n",
    "centrality_eigenvektor_natural_file = rf\"{os.getenv('PROJECT_PATH')}\\results\\centrality_eigenvektor_natural.csv\"\n",
    "pagerank_natural_file = rf\"{os.getenv('PROJECT_PATH')}\\results\\pagerank_natural.csv\"\n",
    "\n",
    "centrality_betweenness_reverse_file = rf\"{os.getenv('PROJECT_PATH')}\\results\\centrality_betweenness_reverse.csv\"\n",
    "centrality_degree_reverse_file = rf\"{os.getenv('PROJECT_PATH')}\\results\\centrality_degree_reverse.csv\"\n",
    "centrality_eigenvektor_reverse_file = rf\"{os.getenv('PROJECT_PATH')}\\results\\centrality_eigenvektor_reverse.csv\"\n",
    "pagerank_reverse_file = rf\"{os.getenv('PROJECT_PATH')}\\results\\pagerank_reverse.csv\"\n",
    "\n",
    "centrality_betweenness_undirected_file = rf\"{os.getenv('PROJECT_PATH')}\\results\\centrality_betweenness_undirected.csv\"\n",
    "centrality_degree_undirected_file = rf\"{os.getenv('PROJECT_PATH')}\\results\\centrality_degree_undirected.csv\"\n",
    "centrality_eigenvektor_undirected_file = rf\"{os.getenv('PROJECT_PATH')}\\results\\centrality_eigenvektor_undirected.csv\"\n",
    "pagerank_undirected_file = rf\"{os.getenv('PROJECT_PATH')}\\results\\pagerank_undirected.csv\"\n",
    "\n",
    "local_clustering_coefficient_file = rf\"{os.getenv('PROJECT_PATH')}\\results\\local_clustering_coefficient.csv\"\n",
    "\n",
    "merged_file = rf\"{os.getenv('PROJECT_PATH')}\\results\\centrality_and_pagerank.csv\""
   ]
  },
  {
   "cell_type": "code",
   "execution_count": null,
   "outputs": [],
   "source": [
    "direction = \"reverse\"\n",
    "df = pd.read_csv(dijkstra_reverse_file).assign(subset=\"all\")\n",
    "df[\"avg\"].replace(0, np.nan, inplace=True)\n",
    "df.sort_values(by=[\"avg\"], inplace=True)\n",
    "print(f\"NaNs: {df['avg'].isna().sum()}\")\n",
    "df[\"avg\"].describe(percentiles=[0.01, 0.05, 0.25, 0.5, 0.75, 0.95, 0.99]).to_csv(rf\"{os.getenv('PROJECT_PATH')}\\results\\pandas\\sssp\\{direction}_describe.csv\")\n",
    "\n",
    "df_redirect = df.groupby([\"is_redirect\"])\n",
    "print(df_redirect[\"linked_by\", \"avg\", \"articlelen\"].describe())\n",
    "\n",
    "df_is_redirect = df_redirect.get_group(True).assign(subset=\"redirect\")\n",
    "df_no_redirect = df_redirect.get_group(False).assign(subset=\"no redirect\")\n",
    "\n",
    "df_new = df.groupby([\"is_new\"])\n",
    "print(df_new[\"linked_by\", \"avg\", \"articlelen\"].describe())\n",
    "\n",
    "df_is_new = df_new.get_group(True).assign(subset=\"new\")\n",
    "df_not_new = df_new.get_group(False).assign(subset=\"not new\")\n",
    "\n",
    "\n",
    "df = df\n",
    "df_no_redirect = df_no_redirect\n",
    "df_is_redirect = df_is_redirect\n",
    "cdf = pd.concat([df, df_no_redirect, df_is_redirect, df_not_new, df_is_new])\n",
    "\n",
    "sns.set_theme(style=\"whitegrid\")\n",
    "\n",
    "#ax = sns.boxplot(x=\"subset\", y=\"avg\", data= cdf, showmeans=True)\n",
    "ax = sns.stripplot(x=\"subset\", y=\"avg\", data= cdf, color=\"black\", alpha = 0.035, size=3, jitter=0.2)\n",
    "ax = sns.violinplot(x=\"subset\", y=\"avg\", data= cdf, showmeans=True)\n",
    "\n",
    "fig = ax.get_figure()\n",
    "\n",
    "fig.savefig(rf\"{os.getenv('PROJECT_PATH')}\\results\\images\\sssp\\{direction}.png\", dpi=1200)"
   ],
   "metadata": {
    "collapsed": false,
    "pycharm": {
     "name": "#%% SSSP\n"
    }
   }
  },
  {
   "cell_type": "markdown",
   "source": [
    "# centrality and pagerank\n",
    "## combine csvs into 1"
   ],
   "metadata": {
    "collapsed": false
   }
  },
  {
   "cell_type": "code",
   "execution_count": null,
   "outputs": [
    {
     "name": "stdout",
     "output_type": "stream",
     "text": [
      "a\n",
      "b\n",
      "c\n"
     ]
    }
   ],
   "source": [
    "df_betw_natural = pd.read_csv(centrality_betweenness_natural_file, header=None, names=[\"id\", \"title\", \"betweenness_centrality_natural\"])\n",
    "df_deg_natural = pd.read_csv(centrality_degree_natural_file, header=None, usecols= [0, 2],names=[\"id\", \"title\", \"degree_centrality_natural\"])\n",
    "df_ev_natural = pd.read_csv(centrality_eigenvektor_natural_file, header=None, usecols= [0, 2], names=[\"id\", \"title\", \"eigenvektor_centrality_natural\"])\n",
    "df_rank_natural = pd.read_csv(pagerank_natural_file, header=None, usecols= [0, 2], names=[\"id\", \"title\", \"pagerank_natural\"])\n",
    "\n",
    "df_betw_reverse = pd.read_csv(centrality_betweenness_reverse_file, header=None, usecols= [0, 2], names=[\"id\", \"title\", \"betweenness_centrality_reverse\"])\n",
    "df_deg_reverse = pd.read_csv(centrality_degree_reverse_file, header=None, usecols= [0, 2],names=[\"id\", \"title\", \"degree_centrality_reverse\"])\n",
    "df_ev_reverse = pd.read_csv(centrality_eigenvektor_reverse_file, header=None, usecols= [0, 2], names=[\"id\", \"title\", \"eigenvektor_centrality_reverse\"])\n",
    "df_rank_reverse = pd.read_csv(pagerank_reverse_file, header=None, usecols= [0, 2], names=[\"id\", \"title\", \"pagerank_reverse\"])\n",
    "\n",
    "df_betw_undirected = pd.read_csv(centrality_betweenness_undirected_file, header=None, usecols= [0, 2], names=[\"id\", \"title\", \"betweenness_centrality_undirected\"])\n",
    "df_deg_undirected = pd.read_csv(centrality_degree_undirected_file, header=None, usecols= [0, 2],names=[\"id\", \"title\", \"degree_centrality_undirected\"])\n",
    "df_ev_undirected = pd.read_csv(centrality_eigenvektor_undirected_file, header=None, usecols= [0, 2], names=[\"id\", \"title\", \"eigenvektor_centrality_undirected\"])\n",
    "df_rank_undirected = pd.read_csv(pagerank_undirected_file, header=None, usecols= [0, 2], names=[\"id\", \"title\", \"pagerank_undirected\"])\n",
    "\n",
    "df_local_clustering_coefficient = pd.read_csv(local_clustering_coefficient_file, header=None, usecols=[0, 2], names=[\"id\", \"title\", \"local_clustering_coefficient\"])\n",
    "data_frames = [df_betw_natural,\n",
    "               df_deg_natural,\n",
    "               df_ev_natural,\n",
    "               df_rank_natural,\n",
    "               df_betw_reverse,\n",
    "               df_deg_reverse,\n",
    "               df_ev_reverse,\n",
    "               df_rank_reverse,\n",
    "               df_betw_undirected,\n",
    "               df_deg_undirected,\n",
    "               df_ev_undirected,\n",
    "               df_rank_undirected,\n",
    "               df_local_clustering_coefficient\n",
    "               ]\n",
    "\n",
    "print(\"a\")\n",
    "df_merged = reduce(lambda left, right: pd.merge(left, right, on=[\"id\"], how=\"outer\"), data_frames)\n",
    "print(\"b\")\n",
    "df_merged.to_csv(merged_file, sep=',', na_rep='?', index=False)\n",
    "df_merged = None\n",
    "df_c = pd.read_csv(merged_file)\n",
    "print(\"c\")\n",
    "df_c.describe(percentiles=[0.01, 0.05, 0.25, 0.5, 0.75, 0.95, 0.99]).to_csv(rf\"{os.getenv('PROJECT_PATH')}\\results\\pandas\\describe.csv\")\n",
    "df_c.corr().to_csv(rf\"{os.getenv('PROJECT_PATH')}\\results\\pandas\\correlation.csv\")\n",
    "df_c.sum().to_csv(rf\"{os.getenv('PROJECT_PATH')}\\results\\pandas\\sum.csv\")"
   ],
   "metadata": {
    "collapsed": false,
    "pycharm": {
     "name": "#%% merge centrality/pagerank\n",
     "is_executing": true
    }
   }
  },
  {
   "cell_type": "code",
   "execution_count": 43,
   "outputs": [],
   "source": [
    "df_c = pd.read_csv(merged_file)"
   ],
   "metadata": {
    "collapsed": false,
    "pycharm": {
     "name": "#%%\n"
    }
   }
  },
  {
   "cell_type": "code",
   "execution_count": null,
   "outputs": [],
   "source": [
    "df_c.describe(percentiles=[0.01, 0.05, 0.25, 0.5, 0.75, 0.95, 0.99]).to_csv(rf\"{os.getenv('PROJECT_PATH')}\\results\\pandas\\describe.csv\")\n",
    "df_c.corr().to_csv(rf\"{os.getenv('PROJECT_PATH')}\\results\\pandas\\correlation.csv\")\n",
    "df_c.sum().to_csv(rf\"{os.getenv('PROJECT_PATH')}\\results\\pandas\\sum.csv\")"
   ],
   "metadata": {
    "collapsed": false,
    "pycharm": {
     "name": "#%% describe, correlation\n"
    }
   }
  },
  {
   "cell_type": "code",
   "execution_count": 34,
   "outputs": [
    {
     "data": {
      "text/plain": "0.9999999999880178"
     },
     "execution_count": 34,
     "metadata": {},
     "output_type": "execute_result"
    }
   ],
   "source": [
    "df_c[\"pagerank_natural\"].sum()\n"
   ],
   "metadata": {
    "collapsed": false,
    "pycharm": {
     "name": "#%%\n"
    }
   }
  },
  {
   "cell_type": "code",
   "execution_count": null,
   "outputs": [],
   "source": [],
   "metadata": {
    "collapsed": false,
    "pycharm": {
     "name": "#%%"
    }
   }
  }
 ],
 "metadata": {
  "kernelspec": {
   "display_name": "Python 3",
   "language": "python",
   "name": "python3"
  },
  "language_info": {
   "codemirror_mode": {
    "name": "ipython",
    "version": 2
   },
   "file_extension": ".py",
   "mimetype": "text/x-python",
   "name": "python",
   "nbconvert_exporter": "python",
   "pygments_lexer": "ipython2",
   "version": "2.7.6"
  }
 },
 "nbformat": 4,
 "nbformat_minor": 0
}